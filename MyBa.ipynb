{
 "cells": [
  {
   "cell_type": "code",
   "execution_count": 1,
   "id": "d645b6c2-18e9-4985-af7f-055c13e3dd4e",
   "metadata": {},
   "outputs": [],
   "source": [
    "#AAAAAAAAAAAAAAAA"
   ]
  },
  {
   "cell_type": "code",
   "execution_count": 1,
   "id": "43958c60-a658-4740-b007-de129e9b8c02",
   "metadata": {},
   "outputs": [],
   "source": [
    "from qiskit_ibm_runtime import QiskitRuntimeService  \n"
   ]
  },
  {
   "cell_type": "code",
   "execution_count": 3,
   "id": "3f218145-37f8-4d6f-8d6d-e2f7723a1b36",
   "metadata": {},
   "outputs": [
    {
     "name": "stderr",
     "output_type": "stream",
     "text": [
      "qiskit_runtime_service._resolve_cloud_instances:WARNING:2025-07-27 21:53:39,541: Default instance not set. Searching all available instances.\n"
     ]
    }
   ],
   "source": [
    "service = QiskitRuntimeService(token=token, channel=\"ibm_quantum_platform\")"
   ]
  },
  {
   "cell_type": "code",
   "execution_count": 4,
   "id": "3cfb89ce-bfcf-462e-b237-8cb9753bd395",
   "metadata": {},
   "outputs": [
    {
     "name": "stdout",
     "output_type": "stream",
     "text": [
      "Instanzen, auf die dein Token Zugriff hat:\n",
      " • {'crn': 'crn:v1:bluemix:public:quantum-computing:us-east:a/c99e194d7d7d4a248aef3f80750b7c42:ba436f3b-d538-41a3-806b-228c04e4627e::', 'plan': 'open', 'name': 'Qiskit Quantum Kernels'}\n"
     ]
    }
   ],
   "source": [
    "print(\"Instanzen, auf die dein Token Zugriff hat:\")\n",
    "for inst in service.instances():\n",
    "    print(\" •\", inst)\n"
   ]
  },
  {
   "cell_type": "code",
   "execution_count": 5,
   "id": "a049a6e5-2d81-475c-b2bf-aabd373d3cd0",
   "metadata": {},
   "outputs": [
    {
     "name": "stdout",
     "output_type": "stream",
     "text": [
      "Backend          Qubits  Pending jobs\n",
      "-----------------------------------\n",
      "ibm_brisbane        127      500\n",
      "ibm_sherbrooke      127      240\n",
      "ibm_torino          133      166\n"
     ]
    }
   ],
   "source": [
    "# Notebook‑Zelle 4\n",
    "backends = service.backends(\n",
    "    simulator=False,     # nur echte Hardware\n",
    "    operational=True     # nur aktuell verfügbare Systeme\n",
    ")\n",
    "\n",
    "print(f\"{'Backend':15}  Qubits  Pending jobs\")\n",
    "print(\"-\"*35)\n",
    "for b in sorted(backends, key=lambda x: x.num_qubits):\n",
    "    status = b.status()\n",
    "    print(f\"{b.name:15}  {b.num_qubits:>6}      {status.pending_jobs:>3}\")"
   ]
  },
  {
   "cell_type": "code",
   "execution_count": 6,
   "id": "8aaab16d-9d86-42ff-a132-34d3460cccba",
   "metadata": {},
   "outputs": [
    {
     "data": {
      "text/plain": [
       "42"
      ]
     },
     "execution_count": 6,
     "metadata": {},
     "output_type": "execute_result"
    }
   ],
   "source": [
    "#binary\n",
    "0b101010"
   ]
  },
  {
   "cell_type": "code",
   "execution_count": 7,
   "id": "4e019fb4-9db4-4511-91dd-07cb2919f147",
   "metadata": {},
   "outputs": [],
   "source": [
    "def bin_hom(x,zf=8):\n",
    "    if(type(x)==type(\"test\")):\n",
    "        if(x[1]=='b'):\n",
    "            i=x[2:]\n",
    "        else:\n",
    "            i=x\n",
    "    else:\n",
    "        i=bin(x)[2:]\n",
    "    lst = []\n",
    "    i=i.zfill(zf)\n",
    "    for c in i:\n",
    "        if(c=='0'):\n",
    "            lst.append(0)\n",
    "        elif(c=='1'):\n",
    "            lst.append(1)\n",
    "        else:\n",
    "            print(\"unpure binary string!\\n\")\n",
    "            break\n",
    "    return lst\n",
    "            "
   ]
  },
  {
   "cell_type": "code",
   "execution_count": 8,
   "id": "c41a8432-f2dc-4d3d-bd91-86835e0bee7c",
   "metadata": {},
   "outputs": [],
   "source": [
    "l=bin_hom(1000)\n"
   ]
  },
  {
   "cell_type": "code",
   "execution_count": 9,
   "id": "130a3b51-b69b-433d-a60d-2a36570d478d",
   "metadata": {},
   "outputs": [],
   "source": [
    "import numpy as np"
   ]
  },
  {
   "cell_type": "code",
   "execution_count": 10,
   "id": "c9c7ec07-d36d-4f88-80b9-28980badbc78",
   "metadata": {},
   "outputs": [
    {
     "data": {
      "text/plain": [
       "'1101'"
      ]
     },
     "execution_count": 10,
     "metadata": {},
     "output_type": "execute_result"
    }
   ],
   "source": [
    "np.binary_repr(13,4)#13 with 4 bits"
   ]
  },
  {
   "cell_type": "code",
   "execution_count": 11,
   "id": "accd8975-f8d1-4925-b679-e9e70edf55f5",
   "metadata": {},
   "outputs": [],
   "source": [
    "from qiskit_ibm_runtime import QiskitRuntimeService\n"
   ]
  },
  {
   "cell_type": "code",
   "execution_count": 12,
   "id": "5227f0bb-f37f-4ee6-bb1a-b14822725e3f",
   "metadata": {},
   "outputs": [
    {
     "name": "stdout",
     "output_type": "stream",
     "text": [
      "ibm_brisbane - Qubits: 127 - Pending Jobs: 500\n",
      "ibm_sherbrooke - Qubits: 127 - Pending Jobs: 240\n",
      "ibm_torino - Qubits: 133 - Pending Jobs: 166\n"
     ]
    }
   ],
   "source": [
    "from qiskit_ibm_runtime import QiskitRuntimeService\n",
    "service = QiskitRuntimeService()\n",
    "\n",
    "# Liste alle Hardware-Backends (keine Simulatoren), die derzeit operational sind\n",
    "backends = service.backends(simulator=False, operational=True)\n",
    "for backend in backends:\n",
    "    print(f\"{backend.name} - Qubits: {backend.num_qubits} - Pending Jobs: {backend.status().pending_jobs}\")\n"
   ]
  },
  {
   "cell_type": "code",
   "execution_count": 13,
   "id": "1b1f579a-45a3-4ff0-b763-18aa240a65ac",
   "metadata": {},
   "outputs": [
    {
     "name": "stdout",
     "output_type": "stream",
     "text": [
      "Dein Quantenschaltkreis:\n",
      "     ┌───┐     ┌─┐   \n",
      "q_0: ┤ H ├──■──┤M├───\n",
      "     └───┘┌─┴─┐└╥┘┌─┐\n",
      "q_1: ─────┤ X ├─╫─┤M├\n",
      "          └───┘ ║ └╥┘\n",
      "c: 2/═══════════╩══╩═\n",
      "                0  1 \n",
      "\n",
      "Simulationsergebnisse (Counts):\n",
      "{'11': 507, '00': 517}\n"
     ]
    }
   ],
   "source": [
    "# 1. Notwendige Bibliotheken importieren\n",
    "from qiskit import QuantumCircuit\n",
    "from qiskit_aer import AerSimulator\n",
    "\n",
    "# 2. Einen Quantenschaltkreis erstellen\n",
    "#    Wir erstellen einen Schaltkreis mit 2 Qubits und 2 klassischen Bits\n",
    "qc = QuantumCircuit(2, 2)\n",
    "\n",
    "#    Hadamard-Gatter auf das erste Qubit anwenden -> erzeugt Superposition\n",
    "qc.h(0)\n",
    "\n",
    "#    CNOT-Gatter anwenden -> erzeugt Verschränkung\n",
    "qc.cx(0, 1)\n",
    "\n",
    "#    Die Qubits messen und die Ergebnisse in den klassischen Bits speichern\n",
    "qc.measure([0, 1], [0, 1])\n",
    "\n",
    "#    Den Schaltkreis ausgeben (optional)\n",
    "print(\"Dein Quantenschaltkreis:\")\n",
    "print(qc)\n",
    "\n",
    "# 3. Den lokalen Simulator auswählen\n",
    "#    AerSimulator ist der leistungsstarke lokale Simulator von Qiskit\n",
    "simulator = AerSimulator()\n",
    "\n",
    "# 4. Den Schaltkreis auf dem Simulator ausführen\n",
    "#    'shots' gibt an, wie oft der Schaltkreis ausgeführt werden soll\n",
    "job = simulator.run(qc, shots=1024)\n",
    "\n",
    "# 5. Ergebnisse abrufen\n",
    "result = job.result()\n",
    "counts = result.get_counts(qc)\n",
    "\n",
    "print(\"\\nSimulationsergebnisse (Counts):\")\n",
    "print(counts)"
   ]
  },
  {
   "cell_type": "code",
   "execution_count": 14,
   "id": "c5117126-ecbd-48ae-ba46-2ee53b7b9d79",
   "metadata": {},
   "outputs": [],
   "source": [
    "import numpy as np\n",
    "import sympy as sp"
   ]
  },
  {
   "cell_type": "code",
   "execution_count": 15,
   "id": "4bb1583e-27b8-4446-ab98-a65c23713605",
   "metadata": {},
   "outputs": [
    {
     "data": {
      "text/latex": [
       "$\\displaystyle \\left[\\begin{matrix}1\\\\0\\end{matrix}\\right]$"
      ],
      "text/plain": [
       "Matrix([\n",
       "[1],\n",
       "[0]])"
      ]
     },
     "execution_count": 15,
     "metadata": {},
     "output_type": "execute_result"
    }
   ],
   "source": [
    "ket_0 = np.array([[1],[0]])\n",
    "ket_1 = np.array([[0],[1]])\n",
    "sp.Matrix(ket_0)\n"
   ]
  },
  {
   "cell_type": "code",
   "execution_count": 16,
   "id": "01874482-0c1f-4ad4-b403-fe438d933917",
   "metadata": {},
   "outputs": [
    {
     "data": {
      "text/latex": [
       "$\\displaystyle \\left[\\begin{matrix}0\\\\1\\end{matrix}\\right]$"
      ],
      "text/plain": [
       "Matrix([\n",
       "[0],\n",
       "[1]])"
      ]
     },
     "execution_count": 16,
     "metadata": {},
     "output_type": "execute_result"
    }
   ],
   "source": [
    "sp.Matrix(ket_1)"
   ]
  },
  {
   "cell_type": "code",
   "execution_count": 17,
   "id": "c6867f61-2760-4cf9-8871-f92681d8521d",
   "metadata": {},
   "outputs": [
    {
     "data": {
      "text/plain": [
       "np.float64(1.0)"
      ]
     },
     "execution_count": 17,
     "metadata": {},
     "output_type": "execute_result"
    }
   ],
   "source": [
    "np.sqrt(np.sum(ket_0**2))"
   ]
  },
  {
   "cell_type": "code",
   "execution_count": 18,
   "id": "63f41a18-b54d-4e78-b28c-bc5fbb0e460f",
   "metadata": {},
   "outputs": [
    {
     "data": {
      "text/plain": [
       "np.float64(1.4142135623730951)"
      ]
     },
     "execution_count": 18,
     "metadata": {},
     "output_type": "execute_result"
    }
   ],
   "source": [
    "ones = np.array([[1],[1]])\n",
    "np.sqrt(np.sum(ones**2))"
   ]
  },
  {
   "cell_type": "code",
   "execution_count": 19,
   "id": "83a6040b-5d51-4d27-a13f-4d934a79ea2b",
   "metadata": {},
   "outputs": [
    {
     "data": {
      "text/plain": [
       "np.int64(1)"
      ]
     },
     "execution_count": 19,
     "metadata": {},
     "output_type": "execute_result"
    }
   ],
   "source": [
    "np.vdot(ket_0,ket_0)"
   ]
  },
  {
   "cell_type": "code",
   "execution_count": 20,
   "id": "5f8558c7-80b9-4374-9498-131a9136dc55",
   "metadata": {},
   "outputs": [
    {
     "data": {
      "text/latex": [
       "$\\displaystyle \\left[\\begin{matrix}0\\\\1\\\\0\\\\0\\end{matrix}\\right]$"
      ],
      "text/plain": [
       "Matrix([\n",
       "[0],\n",
       "[1],\n",
       "[0],\n",
       "[0]])"
      ]
     },
     "execution_count": 20,
     "metadata": {},
     "output_type": "execute_result"
    }
   ],
   "source": [
    "ket_01=np.kron(ket_0,ket_1)\n",
    "sp.Matrix(ket_01)"
   ]
  },
  {
   "cell_type": "code",
   "execution_count": 21,
   "id": "ac12e697-8281-4404-a422-eefea1c7d0f6",
   "metadata": {},
   "outputs": [
    {
     "data": {
      "text/latex": [
       "$\\displaystyle \\left[\\begin{matrix}0.25\\\\0.75\\end{matrix}\\right]$"
      ],
      "text/plain": [
       "Matrix([\n",
       "[0.25],\n",
       "[0.75]])"
      ]
     },
     "execution_count": 21,
     "metadata": {},
     "output_type": "execute_result"
    }
   ],
   "source": [
    "p1 = np.array([[0.25],[0.75]])\n",
    "sp.Matrix(p1)"
   ]
  },
  {
   "cell_type": "code",
   "execution_count": 22,
   "id": "1f5c10d4-169d-4930-9557-c5c0948f2f92",
   "metadata": {},
   "outputs": [],
   "source": [
    "samples = np.random.choice([0,1],size=100,p=p1.reshape(-1))"
   ]
  },
  {
   "cell_type": "code",
   "execution_count": 23,
   "id": "ec0dcb4f-8621-475a-8e79-34a54a25ef40",
   "metadata": {},
   "outputs": [
    {
     "data": {
      "text/plain": [
       "np.int64(27)"
      ]
     },
     "execution_count": 23,
     "metadata": {},
     "output_type": "execute_result"
    }
   ],
   "source": [
    "np.count_nonzero(samples == 0)"
   ]
  },
  {
   "cell_type": "markdown",
   "id": "a24fcb9e-9e14-4830-a976-0e113058b429",
   "metadata": {},
   "source": [
    "# Density Matrices"
   ]
  },
  {
   "cell_type": "code",
   "execution_count": 24,
   "id": "ec7a40de-1f56-4e5c-a2c3-8eee199ec9fb",
   "metadata": {},
   "outputs": [],
   "source": [
    "from qiskit import QuantumCircuit\n",
    "import qiskit.quantum_info as qi\n",
    "from qiskit.visualization import array_to_latex"
   ]
  },
  {
   "cell_type": "code",
   "execution_count": 25,
   "id": "18cb9375-1ee5-42c5-a893-3ef67fb6ad34",
   "metadata": {},
   "outputs": [
    {
     "data": {
      "text/latex": [
       "$$ |01\\rangle$$"
      ],
      "text/plain": [
       "<IPython.core.display.Latex object>"
      ]
     },
     "execution_count": 25,
     "metadata": {},
     "output_type": "execute_result"
    }
   ],
   "source": [
    "psi = qi.Statevector([0,1,0,0])\n",
    "psi.draw('latex')"
   ]
  },
  {
   "cell_type": "code",
   "execution_count": 26,
   "id": "eb61c3c2-8dd0-4f2c-b2c2-e9e0a4027c0b",
   "metadata": {},
   "outputs": [
    {
     "data": {
      "text/html": [
       "<pre style=\"word-wrap: normal;white-space: pre;background: #fff0;line-height: 1.1;font-family: &quot;Courier New&quot;,Courier,monospace\">     ┌───┐     \n",
       "q_1: ┤ H ├──■──\n",
       "     └───┘┌─┴─┐\n",
       "q_0: ─────┤ X ├\n",
       "          └───┘</pre>"
      ],
      "text/plain": [
       "     ┌───┐     \n",
       "q_1: ┤ H ├──■──\n",
       "     └───┘┌─┴─┐\n",
       "q_0: ─────┤ X ├\n",
       "          └───┘"
      ]
     },
     "execution_count": 26,
     "metadata": {},
     "output_type": "execute_result"
    }
   ],
   "source": [
    "qc = QuantumCircuit(2)#2 qubits\n",
    "qc.h(1)\n",
    "qc.cx(1,0)\n",
    "qc.draw(reverse_bits=True)"
   ]
  },
  {
   "cell_type": "code",
   "execution_count": 29,
   "id": "da0a5e05-7064-4b6e-abdf-a1692f12a4e9",
   "metadata": {},
   "outputs": [
    {
     "data": {
      "text/latex": [
       "$$\\frac{\\sqrt{2}}{2} |01\\rangle+\\frac{\\sqrt{2}}{2} |10\\rangle$$"
      ],
      "text/plain": [
       "<IPython.core.display.Latex object>"
      ]
     },
     "execution_count": 29,
     "metadata": {},
     "output_type": "execute_result"
    }
   ],
   "source": [
    "psi_1 = psi.evolve(qc)\n",
    "psi_1.draw(\"latex\")"
   ]
  },
  {
   "cell_type": "code",
   "execution_count": 30,
   "id": "4b53cad8-c167-498a-b1ce-94de34bf5875",
   "metadata": {},
   "outputs": [
    {
     "data": {
      "text/latex": [
       "$$\n",
       "\n",
       "\\begin{bmatrix}\n",
       "0 & 0 & 0 & 0  \\\\\n",
       " 0 & \\frac{1}{2} & \\frac{1}{2} & 0  \\\\\n",
       " 0 & \\frac{1}{2} & \\frac{1}{2} & 0  \\\\\n",
       " 0 & 0 & 0 & 0  \\\\\n",
       " \\end{bmatrix}\n",
       "$$"
      ],
      "text/plain": [
       "<IPython.core.display.Latex object>"
      ]
     },
     "execution_count": 30,
     "metadata": {},
     "output_type": "execute_result"
    }
   ],
   "source": [
    "\n",
    "rho_1 = qi.DensityMatrix(psi_1)\n",
    "rho_1.draw(\"latex\")"
   ]
  },
  {
   "cell_type": "code",
   "execution_count": 31,
   "id": "2f0b07a7-24ff-456c-afb1-0a9e2bc26cf0",
   "metadata": {},
   "outputs": [
    {
     "data": {
      "image/png": "[encoded data removed]",
      "text/plain": [
       "<Figure size 1600x800 with 2 Axes>"
      ]
     },
     "execution_count": 31,
     "metadata": {},
     "output_type": "execute_result"
    }
   ],
   "source": [
    "rho_1.draw(\"city\")"
   ]
  },
  {
   "cell_type": "code",
   "execution_count": 36,
   "id": "b86a82e3-2f99-48ab-9936-6a94d1ab4967",
   "metadata": {},
   "outputs": [
    {
     "data": {
      "text/latex": [
       "$$\n",
       "\n",
       "\\begin{bmatrix}\n",
       "\\frac{1}{2} & - \\frac{i}{2}  \\\\\n",
       " \\frac{i}{2} & \\frac{1}{2}  \\\\\n",
       " \\end{bmatrix}\n",
       "$$"
      ],
      "text/plain": [
       "<IPython.core.display.Latex object>"
      ]
     },
     "execution_count": 36,
     "metadata": {},
     "output_type": "execute_result"
    }
   ],
   "source": [
    "rho_2 = qi.DensityMatrix.from_label('r')#use predefined states\n",
    "rho_2.draw(\"latex\")"
   ]
  },
  {
   "cell_type": "markdown",
   "id": "aacda157-b5a1-4c8c-92cb-42caf0faca67",
   "metadata": {},
   "source": [
    "### S GATE"
   ]
  },
  {
   "cell_type": "code",
   "execution_count": 37,
   "id": "bbe0acbd-8e50-4455-a3e9-816379394fb6",
   "metadata": {},
   "outputs": [
    {
     "data": {
      "text/latex": [
       "$$\n",
       "\n",
       "\\begin{bmatrix}\n",
       "1 & 0  \\\\\n",
       " 0 & i  \\\\\n",
       " \\end{bmatrix}\n",
       "$$"
      ],
      "text/plain": [
       "<IPython.core.display.Latex object>"
      ]
     },
     "execution_count": 37,
     "metadata": {},
     "output_type": "execute_result"
    }
   ],
   "source": [
    "s = qi.Operator.from_label(\"S\")\n",
    "array_to_latex(s)"
   ]
  },
  {
   "cell_type": "code",
   "execution_count": 38,
   "id": "bf509aab-d275-4ec0-a88d-52c480cf7b2d",
   "metadata": {},
   "outputs": [
    {
     "data": {
      "text/latex": [
       "$$\n",
       "\n",
       "\\begin{bmatrix}\n",
       "\\frac{1}{2} & - \\frac{1}{2}  \\\\\n",
       " - \\frac{1}{2} & \\frac{1}{2}  \\\\\n",
       " \\end{bmatrix}\n",
       "$$"
      ],
      "text/plain": [
       "<IPython.core.display.Latex object>"
      ]
     },
     "execution_count": 38,
     "metadata": {},
     "output_type": "execute_result"
    }
   ],
   "source": [
    "rho_3 = rho_2.evolve(s)\n",
    "rho_3.draw(\"latex\")"
   ]
  },
  {
   "cell_type": "code",
   "execution_count": 39,
   "id": "b6b0248c-5c13-40b2-8a24-887c4be79da0",
   "metadata": {},
   "outputs": [
    {
     "data": {
      "text/latex": [
       "$$\n",
       "\n",
       "\\begin{bmatrix}\n",
       "\\frac{2}{3} & 0  \\\\\n",
       " 0 & \\frac{1}{3}  \\\\\n",
       " \\end{bmatrix}\n",
       "$$"
      ],
      "text/plain": [
       "<IPython.core.display.Latex object>"
      ]
     },
     "execution_count": 39,
     "metadata": {},
     "output_type": "execute_result"
    }
   ],
   "source": [
    "rho_4 = 1/3 * qi.DensityMatrix.from_label(\"1\") + 2/3*qi.DensityMatrix.from_label(\"0\")\n",
    "rho_4.draw(\"latex\")"
   ]
  },
  {
   "cell_type": "code",
   "execution_count": 43,
   "id": "ac6ca35e-5473-45a3-a863-f78a7edb7000",
   "metadata": {},
   "outputs": [
    {
     "data": {
      "text/latex": [
       "$$\n",
       "\n",
       "\\begin{bmatrix}\n",
       "\\frac{1}{3} & 0  \\\\\n",
       " 0 & \\frac{2}{3}  \\\\\n",
       " \\end{bmatrix}\n",
       "$$"
      ],
      "text/plain": [
       "<IPython.core.display.Latex object>"
      ]
     },
     "execution_count": 43,
     "metadata": {},
     "output_type": "execute_result"
    }
   ],
   "source": [
    "rho_4.evolve(qi.Operator.from_label(\"X\")).draw(\"latex\")"
   ]
  },
  {
   "cell_type": "markdown",
   "id": "afe08b68-b79a-4059-9269-e79862fcfa06",
   "metadata": {},
   "source": [
    "# Noisy Gates"
   ]
  },
  {
   "cell_type": "code",
   "execution_count": 48,
   "id": "33744b96-cdbd-464e-bbff-263563b4b2ed",
   "metadata": {},
   "outputs": [],
   "source": [
    "from qiskit_aer import AerSimulator\n",
    "from qiskit_aer.noise import NoiseModel, mixed_unitary_error"
   ]
  },
  {
   "cell_type": "code",
   "execution_count": 50,
   "id": "19721e3b-9fbe-429f-b473-9ae9dca028da",
   "metadata": {},
   "outputs": [
    {
     "data": {
      "text/latex": [
       "$$\n",
       "\n",
       "\\begin{bmatrix}\n",
       "\\frac{1}{2} & \\frac{1}{20} - \\frac{7 i}{20}  \\\\\n",
       " \\frac{1}{20} + \\frac{7 i}{20} & \\frac{1}{2}  \\\\\n",
       " \\end{bmatrix}\n",
       "$$"
      ],
      "text/plain": [
       "<IPython.core.display.Latex object>"
      ]
     },
     "execution_count": 50,
     "metadata": {},
     "output_type": "execute_result"
    }
   ],
   "source": [
    "l = qi.DensityMatrix.from_label(\"l\")\n",
    "r = qi.DensityMatrix.from_label(\"r\")\n",
    "p = qi.DensityMatrix.from_label(\"+\")\n",
    "\n",
    "\n",
    "rho = 8/10*r + 1/10*l + 1/10*p\n",
    "rho.draw(\"latex\")"
   ]
  },
  {
   "cell_type": "code",
   "execution_count": 51,
   "id": "3db14370-8c3a-42ff-8e40-916308fda83d",
   "metadata": {},
   "outputs": [],
   "source": [
    "s = qi.Operator.from_label(\"S\")"
   ]
  },
  {
   "cell_type": "code",
   "execution_count": 53,
   "id": "b643da74-5b99-4ced-9ae1-499bcf5bbb5a",
   "metadata": {},
   "outputs": [],
   "source": [
    "s_dagger = s.adjoint()"
   ]
  },
  {
   "cell_type": "code",
   "execution_count": 54,
   "id": "7e63f4ad-113c-4dc4-bb36-286158e68cfe",
   "metadata": {},
   "outputs": [],
   "source": [
    "I = qi.Operator.from_label(\"I\")"
   ]
  },
  {
   "cell_type": "code",
   "execution_count": 55,
   "id": "5e51c1a6-fb6e-42c6-b502-5455306f7c7e",
   "metadata": {},
   "outputs": [],
   "source": [
    "prob_s = 0.8\n",
    "prob_s_dagger = 0.1\n",
    "prob_I = 0.1"
   ]
  },
  {
   "cell_type": "code",
   "execution_count": 56,
   "id": "ccf70559-36d6-43d1-9423-7ffe3b15d9cc",
   "metadata": {},
   "outputs": [],
   "source": [
    "S_noisy = mixed_unitary_error([(s,prob_s),(s_dagger,prob_s_dagger),(I,prob_I)])"
   ]
  },
  {
   "cell_type": "code",
   "execution_count": 57,
   "id": "edba4489-22f1-4a1d-af9b-20cd41b82002",
   "metadata": {},
   "outputs": [
    {
     "name": "stdout",
     "output_type": "stream",
     "text": [
      "QuantumError on 1 qubits. Noise circuits:\n",
      "  P(0) = 0.8, Circuit = \n",
      "   ┌─────────┐\n",
      "q: ┤ Unitary ├\n",
      "   └─────────┘\n",
      "  P(1) = 0.1, Circuit = \n",
      "   ┌─────────┐\n",
      "q: ┤ Unitary ├\n",
      "   └─────────┘\n",
      "  P(2) = 0.1, Circuit = \n",
      "   ┌───┐\n",
      "q: ┤ I ├\n",
      "   └───┘\n"
     ]
    }
   ],
   "source": [
    "print(S_noisy)"
   ]
  },
  {
   "cell_type": "code",
   "execution_count": 59,
   "id": "50d33082-ec2b-4cbb-808f-c6d307de1d37",
   "metadata": {},
   "outputs": [
    {
     "name": "stdout",
     "output_type": "stream",
     "text": [
      "NoiseModel:\n",
      "  Basis gates: ['cx', 'id', 'rz', 'sx']\n",
      "  Instructions with noise: ['id']\n",
      "  Qubits with noise: [0]\n",
      "  Specific qubit errors: [('id', (0,))]\n"
     ]
    }
   ],
   "source": [
    "noise_m = NoiseModel()\n",
    "noise_m.add_quantum_error(S_noisy,[\"id\"],[0])#what gate on what qubit\n",
    "print(noise_m)"
   ]
  },
  {
   "cell_type": "code",
   "execution_count": 60,
   "id": "62e37a96-3825-404b-8cce-98b662a3de47",
   "metadata": {},
   "outputs": [
    {
     "data": {
      "text/html": [
       "<pre style=\"word-wrap: normal;white-space: pre;background: #fff0;line-height: 1.1;font-family: &quot;Courier New&quot;,Courier,monospace\">   ┌───┐┌───┐ density_matrix \n",
       "q: ┤ H ├┤ I ├───────░────────\n",
       "   └───┘└───┘       ░        </pre>"
      ],
      "text/plain": [
       "   ┌───┐┌───┐ density_matrix \n",
       "q: ┤ H ├┤ I ├───────░────────\n",
       "   └───┘└───┘       ░        "
      ]
     },
     "execution_count": 60,
     "metadata": {},
     "output_type": "execute_result"
    }
   ],
   "source": [
    "qc = QuantumCircuit(1)\n",
    "qc.h(0)\n",
    "qc.id(0)\n",
    "qc.save_density_matrix()\n",
    "qc.draw()"
   ]
  },
  {
   "cell_type": "code",
   "execution_count": 75,
   "id": "b3b270d2-aa0e-4ca0-b327-5539d97c9feb",
   "metadata": {},
   "outputs": [
    {
     "name": "stdout",
     "output_type": "stream",
     "text": [
      "{'00': 507, '11': 517}\n"
     ]
    }
   ],
   "source": [
    "# 1) Build a simple noise model (example)\n",
    "noise_m = NoiseModel()\n",
    "#    • add kraus / unitary / pauli errors here …\n",
    "#      e.g. noise_m.add_all_qubit_quantum_error(mixed_unitary_error([...]), 'cx')\n",
    "\n",
    "# 2) Build or load the circuit you want to run\n",
    "qc = QuantumCircuit(2)\n",
    "qc.h(0)\n",
    "qc.cx(0, 1)\n",
    "qc.measure_all()\n",
    "# 3) Create a simulator that can track density matrices and apply the noise model\n",
    "sim_density = AerSimulator(\n",
    "    method=\"density_matrix\",   # or \"automatic\" / \"stabilizer\" / \"matrix_product_state\" …\n",
    "    noise_model=noise_m        # <-- correct keyword!\n",
    ")\n",
    "\n",
    "# 4) Run and get results\n",
    "job    = sim_density.run(qc)\n",
    "qc.save_density_matrix() \n",
    "result = job.result()\n",
    "print(result.get_counts())"
   ]
  },
  {
   "cell_type": "code",
   "execution_count": 73,
   "id": "3d39b8bb-f2f2-40b6-90cf-b189c3d30cfa",
   "metadata": {},
   "outputs": [
    {
     "data": {
      "text/latex": [
       "$$\n",
       "\n",
       "\\begin{bmatrix}\n",
       "0.515625 & 0 & 0 & 0  \\\\\n",
       " 0 & 0 & 0 & 0  \\\\\n",
       " 0 & 0 & 0 & 0  \\\\\n",
       " 0 & 0 & 0 & 0.484375  \\\\\n",
       " \\end{bmatrix}\n",
       "$$"
      ],
      "text/plain": [
       "<IPython.core.display.Latex object>"
      ]
     },
     "execution_count": 73,
     "metadata": {},
     "output_type": "execute_result"
    }
   ],
   "source": [
    "rho_s = result.data(0)[\"density_matrix\"]\n",
    "rho_s = qi.DensityMatrix(rho_s)\n",
    "rho_s.draw(\"latex\")"
   ]
  },
  {
   "cell_type": "markdown",
   "id": "1fcc398c-f0b9-4896-86e6-f763fa0f4e0f",
   "metadata": {},
   "source": [
    "# Cut, Versuch 2"
   ]
  },
  {
   "cell_type": "code",
   "execution_count": 1,
   "id": "09f90e21-602c-4bb7-9020-a26f30db582b",
   "metadata": {},
   "outputs": [],
   "source": [
    "from qiskit_ibm_runtime import QiskitRuntimeService"
   ]
  },
  {
   "cell_type": "code",
   "execution_count": 4,
   "id": "617a1cb1-297f-4320-bb44-9cee659b2f04",
   "metadata": {},
   "outputs": [
    {
     "name": "stdout",
     "output_type": "stream",
     "text": [
      "ibm_brisbane 127\n",
      "ibm_sherbrooke 127\n",
      "ibm_torino 133\n"
     ]
    }
   ],
   "source": [
    "service = QiskitRuntimeService()  # verwendet den gespeicherten Account\n",
    "backends = service.backends(simulator=False, operational=True)\n",
    "for b in backends:\n",
    "    print(b.name, b.num_qubits)"
   ]
  },
  {
   "cell_type": "code",
   "execution_count": 10,
   "id": "0af3b9ff-e78d-4e3b-b436-ce02d6468bfa",
   "metadata": {},
   "outputs": [
    {
     "name": "stdout",
     "output_type": "stream",
     "text": [
      "Ausgewähltes Backend: ibm_sherbrooke\n"
     ]
    }
   ],
   "source": [
    "from qiskit import QuantumCircuit\n",
    "from qiskit.transpiler import generate_preset_pass_manager\n",
    "\n",
    "backend = service.least_busy(simulator=False, operational=True)\n",
    "print(\"Ausgewähltes Backend:\", backend.name)\n",
    "\n",
    "# Beispiel: einfache Bell-Schaltung\n",
    "qc = QuantumCircuit(2)\n",
    "qc.h(0)\n",
    "qc.cx(0, 1)\n",
    "\n",
    "# preset pass manager der höchsten Stufe (3) für dein Backend\n",
    "pm = generate_preset_pass_manager(backend=backend, optimization_level=3)\n",
    "isa_circuit = pm.run(qc)"
   ]
  },
  {
   "cell_type": "code",
   "execution_count": 15,
   "id": "b7d58157-4599-4470-af52-5e1a9ebb2271",
   "metadata": {},
   "outputs": [
    {
     "name": "stdout",
     "output_type": "stream",
     "text": [
      "Backend: ibm_sherbrooke\n",
      "Logische Qubits nach Transpile: 127\n"
     ]
    },
    {
     "name": "stderr",
     "output_type": "stream",
     "text": [
      "/home/lab/qiskit_main/lib/python3.13/site-packages/qiskit_ibm_runtime/utils/validations.py:41: UserWarning: The 0-th circuit has no output classical registers so the result will be empty. Did you mean to add measurement instructions?\n",
      "  warnings.warn(\n"
     ]
    }
   ],
   "source": [
    "# -------------------------------------------\n",
    "# 0) Imports & Service\n",
    "# -------------------------------------------\n",
    "from qiskit_ibm_runtime import QiskitRuntimeService, Estimator, Sampler\n",
    "from qiskit import QuantumCircuit, transpile\n",
    "from qiskit.quantum_info import SparsePauliOp\n",
    "\n",
    "service  = QiskitRuntimeService()\n",
    "backend  = service.least_busy(simulator=False, operational=True)\n",
    "print(\"Backend:\", backend.name)\n",
    "\n",
    "# -------------------------------------------\n",
    "# 1) Testschaltung (Bell, 2 Logik-Qubits)\n",
    "# -------------------------------------------\n",
    "qc = QuantumCircuit(2, name=\"Bell\")\n",
    "qc.h(0)\n",
    "qc.cx(0, 1)\n",
    "\n",
    "# -------------------------------------------\n",
    "# 2) Auf Backend transpilierten ISA-Circuit erzeugen\n",
    "#    → Transpiler sorgt für gültige Basisgatter\n",
    "#    → Layout hält die Anzahl „2“, weist sie nur\n",
    "#      auf zwei physische Qubits des Geräts ab.\n",
    "# -------------------------------------------\n",
    "isa_circuit = transpile(\n",
    "    qc,\n",
    "    backend=backend,\n",
    "    optimization_level=1       # schnell, genügt für Demo\n",
    ")\n",
    "print(\"Logische Qubits nach Transpile:\", isa_circuit.num_qubits)\n",
    "\n",
    "# -------------------------------------------\n",
    "# 3) Observables an Layout anpassen\n",
    "# -------------------------------------------\n",
    "observables_logical = [\n",
    "    SparsePauliOp(\"ZZ\"),\n",
    "    SparsePauliOp(\"XX\")\n",
    "]\n",
    "\n",
    "# physisches Layout anwenden, damit Dim-Check passt\n",
    "layout = isa_circuit.layout\n",
    "observables_physical = [\n",
    "    obs.apply_layout(layout) for obs in observables_logical\n",
    "]\n",
    "\n",
    "# -------------------------------------------\n",
    "# 4) Erwartungswerte mit Estimator (100 Shots)\n",
    "# -------------------------------------------\n",
    "est = Estimator(mode=backend)\n",
    "est.options.default_shots = 100\n",
    "\n",
    "job_est = est.run([(isa_circuit, observables_physical)])\n",
    "\n",
    "# -------------------------------------------\n",
    "# 5) Roh-Counts mit Sampler (100 Shots)\n",
    "# -------------------------------------------\n",
    "sampler = Sampler(mode=backend)\n",
    "job_samp = sampler.run([isa_circuit], shots=100)\n"
   ]
  },
  {
   "cell_type": "code",
   "execution_count": 21,
   "id": "cfdc46b3-349d-4f0f-930f-1b264c2687da",
   "metadata": {},
   "outputs": [
    {
     "data": {
      "text/plain": [
       "<RuntimeJobV2('d25s2t023tks73a6kpug', 'sampler')>"
      ]
     },
     "execution_count": 21,
     "metadata": {},
     "output_type": "execute_result"
    }
   ],
   "source": [
    "job_samp "
   ]
  },
  {
   "cell_type": "code",
   "execution_count": null,
   "id": "e6a5f4ba-9aac-4a5e-8159-44dcccaba6dc",
   "metadata": {},
   "outputs": [],
   "source": []
  },
  {
   "cell_type": "code",
   "execution_count": null,
   "id": "14ce3e2e-a293-4578-8144-0cfacf030b84",
   "metadata": {},
   "outputs": [],
   "source": []
  },
  {
   "cell_type": "code",
   "execution_count": null,
   "id": "3c5d7148-c31c-446b-9abe-1dd06364fcd3",
   "metadata": {},
   "outputs": [],
   "source": []
  },
  {
   "cell_type": "code",
   "execution_count": null,
   "id": "0e7511e0-1de8-4c43-90ca-51815cd1ed47",
   "metadata": {},
   "outputs": [],
   "source": []
  },
  {
   "cell_type": "code",
   "execution_count": null,
   "id": "700b81f8-44b3-4f1c-aa1c-6df01772f85f",
   "metadata": {},
   "outputs": [],
   "source": []
  },
  {
   "cell_type": "code",
   "execution_count": null,
   "id": "fdce2644-37a5-4150-b628-1a2d0b522e9c",
   "metadata": {},
   "outputs": [],
   "source": []
  },
  {
   "cell_type": "code",
   "execution_count": null,
   "id": "317c5b1a-0302-4b4d-adb3-95f586c35f09",
   "metadata": {},
   "outputs": [],
   "source": []
  },
  {
   "cell_type": "code",
   "execution_count": null,
   "id": "a4be8a22-bec0-46cc-8b53-835605582480",
   "metadata": {},
   "outputs": [],
   "source": []
  },
  {
   "cell_type": "code",
   "execution_count": null,
   "id": "e6205da9-fefc-4ac3-afb3-a37f257be344",
   "metadata": {},
   "outputs": [],
   "source": []
  },
  {
   "cell_type": "code",
   "execution_count": null,
   "id": "1acd3106-0b63-4cc8-9d45-388c9e36e979",
   "metadata": {},
   "outputs": [],
   "source": []
  },
  {
   "cell_type": "code",
   "execution_count": null,
   "id": "d3148dd1-23fe-485e-a905-946d4498d98d",
   "metadata": {},
   "outputs": [],
   "source": []
  },
  {
   "cell_type": "code",
   "execution_count": null,
   "id": "03323599-3216-4d98-b2bc-87fe57b8cfe2",
   "metadata": {},
   "outputs": [],
   "source": []
  },
  {
   "cell_type": "code",
   "execution_count": null,
   "id": "9a560656-5bd1-4382-82f6-824cd3e3ef18",
   "metadata": {},
   "outputs": [],
   "source": []
  },
  {
   "cell_type": "code",
   "execution_count": null,
   "id": "73601929-93ae-42ce-9412-f73057f4420d",
   "metadata": {},
   "outputs": [],
   "source": []
  },
  {
   "cell_type": "code",
   "execution_count": null,
   "id": "2baa0c94-4b32-4871-b07e-489ae8b1a833",
   "metadata": {},
   "outputs": [],
   "source": []
  },
  {
   "cell_type": "code",
   "execution_count": null,
   "id": "2edb61ef-ece3-4fb2-b8da-9ae1c87db0dd",
   "metadata": {},
   "outputs": [],
   "source": []
  },
  {
   "cell_type": "code",
   "execution_count": null,
   "id": "610dc88f-3fdd-4154-a72d-998d9ea4c066",
   "metadata": {},
   "outputs": [],
   "source": []
  },
  {
   "cell_type": "code",
   "execution_count": null,
   "id": "ac66d073-936e-4375-a4a9-143fa770f29c",
   "metadata": {},
   "outputs": [],
   "source": []
  },
  {
   "cell_type": "code",
   "execution_count": null,
   "id": "700ff323-7612-4503-b3f6-3dc9781627d2",
   "metadata": {},
   "outputs": [],
   "source": []
  },
  {
   "cell_type": "code",
   "execution_count": null,
   "id": "4203b2cc-ced7-446d-a2f7-78780f693205",
   "metadata": {},
   "outputs": [],
   "source": []
  },
  {
   "cell_type": "code",
   "execution_count": null,
   "id": "5d08a38a-f7c3-44e0-8441-659127ba8ab7",
   "metadata": {},
   "outputs": [],
   "source": []
  },
  {
   "cell_type": "code",
   "execution_count": null,
   "id": "269155b0-ffb5-4c2b-ade0-70510d2a1d37",
   "metadata": {},
   "outputs": [],
   "source": []
  },
  {
   "cell_type": "code",
   "execution_count": null,
   "id": "de91adbf-60a6-4781-8673-333fb27f5695",
   "metadata": {},
   "outputs": [],
   "source": []
  },
  {
   "cell_type": "code",
   "execution_count": null,
   "id": "dac955f3-bc82-4123-b8d8-02497fcf21f1",
   "metadata": {},
   "outputs": [],
   "source": []
  },
  {
   "cell_type": "code",
   "execution_count": null,
   "id": "32953159-c3ab-4e1d-a687-175c45a480e1",
   "metadata": {},
   "outputs": [],
   "source": []
  }
 ],
 "metadata": {
  "kernelspec": {
   "display_name": "Bisquit",
   "language": "python",
   "name": "myenv"
  },
  "language_info": {
   "codemirror_mode": {
    "name": "ipython",
    "version": 3
   },
   "file_extension": ".py",
   "mimetype": "text/x-python",
   "name": "python",
   "nbconvert_exporter": "python",
   "pygments_lexer": "ipython3",
   "version": "3.13.3"
  }
 },
 "nbformat": 4,
 "nbformat_minor": 5
}
